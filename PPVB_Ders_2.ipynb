{
 "cells": [
  {
   "cell_type": "markdown",
   "metadata": {},
   "source": [
    "# Ders-2: Söz Dizim Kuralları, Değişkenler ve Veri Türleri\n",
    "\n",
    "### Python komut satırında herhangi bir değişken kullanmadan çeşitli işlemler yapabilirsiniz."
   ]
  },
  {
   "cell_type": "code",
   "execution_count": 1,
   "metadata": {},
   "outputs": [
    {
     "data": {
      "text/plain": [
       "20990909"
      ]
     },
     "execution_count": 1,
     "metadata": {},
     "output_type": "execute_result"
    }
   ],
   "source": [
    "2021 + 20988888"
   ]
  },
  {
   "cell_type": "code",
   "execution_count": 2,
   "metadata": {},
   "outputs": [
    {
     "data": {
      "text/plain": [
       "95"
      ]
     },
     "execution_count": 2,
     "metadata": {},
     "output_type": "execute_result"
    }
   ],
   "source": [
    "19 * 5"
   ]
  },
  {
   "cell_type": "code",
   "execution_count": 3,
   "metadata": {},
   "outputs": [
    {
     "data": {
      "text/plain": [
       "'Murat Paşa Uysal'"
      ]
     },
     "execution_count": 3,
     "metadata": {},
     "output_type": "execute_result"
    }
   ],
   "source": [
    "\"Murat Paşa\" + \" \" + \"Uysal\""
   ]
  },
  {
   "cell_type": "markdown",
   "metadata": {},
   "source": [
    "#### Değişkenler farklı türdeki değerleri tutmak ve bu değerlerle çeşitli işlemler yapmak için kullanılırlar. Python’da veri türlerinin belirlenmesi dinamik olarak gerçekleştirilmektedir. \n"
   ]
  },
  {
   "cell_type": "code",
   "execution_count": 4,
   "metadata": {},
   "outputs": [],
   "source": [
    "musteriNo = 1991\n",
    "adiSoyadi = \"Murat Paşa Uysal\"\n",
    "cinsiyeti = 'E'\n",
    "Boyu      = 1.74\n",
    "uyeMi     = True"
   ]
  },
  {
   "cell_type": "code",
   "execution_count": 5,
   "metadata": {},
   "outputs": [
    {
     "data": {
      "text/plain": [
       "1991"
      ]
     },
     "execution_count": 5,
     "metadata": {},
     "output_type": "execute_result"
    }
   ],
   "source": [
    "musteriNo"
   ]
  },
  {
   "cell_type": "code",
   "execution_count": 6,
   "metadata": {},
   "outputs": [
    {
     "data": {
      "text/plain": [
       "'Murat Paşa Uysal'"
      ]
     },
     "execution_count": 6,
     "metadata": {},
     "output_type": "execute_result"
    }
   ],
   "source": [
    "adiSoyadi"
   ]
  },
  {
   "cell_type": "code",
   "execution_count": 7,
   "metadata": {},
   "outputs": [
    {
     "name": "stdout",
     "output_type": "stream",
     "text": [
      "Murat Paşa Uysal adlı müşteri üyedir\n"
     ]
    }
   ],
   "source": [
    "if uyeMi :\n",
    "    print (adiSoyadi + \" \" + \"adlı müşteri üyedir\")\n",
    "else:\n",
    "    print (adiSoyadi + \" \" + \"adlı müşteri üye değildir\")"
   ]
  },
  {
   "cell_type": "markdown",
   "metadata": {},
   "source": [
    "### Çeşitli Tabanlara Göre Tam Sayı (Integer) Değerler"
   ]
  },
  {
   "cell_type": "code",
   "execution_count": 8,
   "metadata": {},
   "outputs": [
    {
     "name": "stdout",
     "output_type": "stream",
     "text": [
      "100   onluk     sayının değeri   = 100\n",
      "0b100 ikili     sayının değeri   = 4\n",
      "0o100 sekizli   sayının  değeri  = 64\n",
      "0x100 onaltılık sayının değeri   = 256\n"
     ]
    }
   ],
   "source": [
    "onlukSayi    = 100\n",
    "print (\"100   onluk     sayının değeri   =\", onlukSayi)\n",
    "ikiliSayi    = 0b100\n",
    "print (\"0b100 ikili     sayının değeri   =\", ikiliSayi)\n",
    "sekizliSayi  = 0o100\n",
    "print (\"0o100 sekizli   sayının  değeri  =\", sekizliSayi)\n",
    "onAltiliSayi = 0x100\n",
    "print (\"0x100 onaltılık sayının değeri   =\", onAltiliSayi)\n"
   ]
  },
  {
   "cell_type": "markdown",
   "metadata": {},
   "source": [
    "####  Python'da; Java, C, C# benzeri programlama dillerinden farklı olarak çok farklı büyüklükteki tam sayı değerlerle aynı değişkene atayarak işlem yapma kolaylığı vardır. Bu durum veri bilimi işlemlerinde önemli kolaylık sağlayacaktır."
   ]
  },
  {
   "cell_type": "code",
   "execution_count": 9,
   "metadata": {},
   "outputs": [
    {
     "name": "stdout",
     "output_type": "stream",
     "text": [
      "1\n",
      "<class 'int'>\n",
      "987654321012345678901234567890987654321\n",
      "<class 'int'>\n",
      "4 kg sipraiş verilmiştir\n",
      "<class 'int'>\n",
      "2 kg sipraiş verilmiştir\n",
      "<class 'int'>\n"
     ]
    }
   ],
   "source": [
    "siparisAdeti = 1\n",
    "print (siparisAdeti)\n",
    "print (type(siparisAdeti))\n",
    "siparisAdeti = 987654321012345678901234567890987654321\n",
    "print (siparisAdeti)\n",
    "print (type(siparisAdeti))\n",
    "\n",
    "siparisAdeti = int (4.8)\n",
    "print (siparisAdeti , \"kg sipraiş verilmiştir\")\n",
    "print (type(siparisAdeti))\n",
    "siparisAdeti = int (\"2\")\n",
    "print (siparisAdeti , \"kg sipraiş verilmiştir\")\n",
    "print (type(siparisAdeti))"
   ]
  },
  {
   "cell_type": "markdown",
   "metadata": {},
   "source": [
    "### String (Karakter Katarı) Veri Türü ve İşlemleri\n",
    "#### Python’da String türü (karakter katarı) değerler atanırken çift veya tek tırnak kullanılabilmektedir."
   ]
  },
  {
   "cell_type": "code",
   "execution_count": 10,
   "metadata": {},
   "outputs": [
    {
     "name": "stdout",
     "output_type": "stream",
     "text": [
      "Murat Paşa Uysal adlı müşteri\n",
      "Murat Paşa Uysal adlı müşteri\n",
      "Murat Paşa Uysal'ın siparişi tesilim edildi\n"
     ]
    }
   ],
   "source": [
    "# çift tırnak kullanılıyor\n",
    "adiSoyadi     = \"Murat Paşa Uysal\" \n",
    "print(adiSoyadi + \" \" + \"adlı müşteri\")\n",
    "# tek tırnak kullanılıyor\n",
    "adiSoyadi     = 'Murat Paşa Uysal'\n",
    "print(adiSoyadi + \" \" + \"adlı müşteri\")\n",
    "# çift ve tek tırnak birlikte kullanılıyor\n",
    "siparisDurumu = \"Murat Paşa Uysal'ın siparişi tesilim edildi\" \n",
    "print(siparisDurumu)"
   ]
  },
  {
   "cell_type": "markdown",
   "metadata": {},
   "source": [
    "#### Python’da veri türlerinin belirlenmesi dinamik olarak gerçekleştirilmektedir.  Değerin ve operatörün türü yapılan işlemi belirlemektedir.  Örneğin toplama (+) operatörü iki tam sayı değeri toplarken String türündeki değerleri birbiri ardına ekleyecektir."
   ]
  },
  {
   "cell_type": "code",
   "execution_count": 11,
   "metadata": {},
   "outputs": [
    {
     "name": "stdout",
     "output_type": "stream",
     "text": [
      "12\n",
      "<class 'int'>\n",
      "Birinci sipariş 4 adet;  İkinci sipariş 8 adet.\n",
      "<class 'str'>\n"
     ]
    }
   ],
   "source": [
    "siparisAdeti = 4 + 8\n",
    "print (siparisAdeti)\n",
    "print (type(siparisAdeti))\n",
    "\n",
    "siparisAdeti = \"Birinci sipariş 4 adet;\" + \" \" + \" İkinci sipariş 8 adet.\"\n",
    "print (siparisAdeti)\n",
    "print (type(siparisAdeti))"
   ]
  },
  {
   "cell_type": "markdown",
   "metadata": {},
   "source": [
    "### Kesirli Sayı (Floating Point) Veri Türleri"
   ]
  },
  {
   "cell_type": "code",
   "execution_count": 12,
   "metadata": {},
   "outputs": [
    {
     "name": "stdout",
     "output_type": "stream",
     "text": [
      "2.59\n"
     ]
    }
   ],
   "source": [
    "siparisMiktari = 0.76 + 1.83\n",
    "print (siparisMiktari)"
   ]
  },
  {
   "cell_type": "markdown",
   "metadata": {},
   "source": [
    "#### Çeşitli atama yöntemleri"
   ]
  },
  {
   "cell_type": "code",
   "execution_count": 13,
   "metadata": {},
   "outputs": [
    {
     "name": "stdout",
     "output_type": "stream",
     "text": [
      "Doğrudan Atama = 1991.0\n",
      "Bilimsel Atama = 1991.0\n",
      "Negatif  Üstel = 0.1991\n"
     ]
    }
   ],
   "source": [
    "siparisMiktari = 1991.0\n",
    "print(\"Doğrudan Atama =\", siparisMiktari)\n",
    "siparisMiktari = 19.91e2\n",
    "print(\"Bilimsel Atama =\", siparisMiktari)\n",
    "siparisMiktari = 19.91e-2\n",
    "print(\"Negatif  Üstel =\", siparisMiktari)\n"
   ]
  },
  {
   "cell_type": "markdown",
   "metadata": {},
   "source": [
    "#### Çeşitli dönüştürme yöntemleri"
   ]
  },
  {
   "cell_type": "code",
   "execution_count": 14,
   "metadata": {},
   "outputs": [
    {
     "name": "stdout",
     "output_type": "stream",
     "text": [
      "2.0\n",
      "<class 'float'>\n",
      "2.6\n",
      "<class 'float'>\n"
     ]
    }
   ],
   "source": [
    "# Tam sayı değeri float değere dönüştürme\n",
    "siparisAdeti = 2\n",
    "siparisAdeti = float(siparisAdeti)\n",
    "print (siparisAdeti)\n",
    "print (type(siparisAdeti))\n",
    "# String  değeri float değere dönüştürme\n",
    "siparisAdeti = \"2.6\"\n",
    "siparisAdeti = float(siparisAdeti)\n",
    "print (siparisAdeti)\n",
    "print (type(siparisAdeti))"
   ]
  },
  {
   "cell_type": "markdown",
   "metadata": {},
   "source": [
    "### Tarih ve Saat (Date ve Time) Veri Türleri"
   ]
  },
  {
   "cell_type": "code",
   "execution_count": 15,
   "metadata": {},
   "outputs": [
    {
     "name": "stdout",
     "output_type": "stream",
     "text": [
      "2021-02-16 09:57:52.878553\n"
     ]
    }
   ],
   "source": [
    "import datetime\n",
    "print (datetime.datetime.now())"
   ]
  },
  {
   "cell_type": "code",
   "execution_count": 16,
   "metadata": {},
   "outputs": [
    {
     "name": "stdout",
     "output_type": "stream",
     "text": [
      "2021-02-16\n"
     ]
    }
   ],
   "source": [
    "print (str(datetime.datetime.now().date()))"
   ]
  },
  {
   "cell_type": "code",
   "execution_count": null,
   "metadata": {},
   "outputs": [],
   "source": []
  }
 ],
 "metadata": {
  "kernelspec": {
   "display_name": "Python 3",
   "language": "python",
   "name": "python3"
  },
  "language_info": {
   "codemirror_mode": {
    "name": "ipython",
    "version": 3
   },
   "file_extension": ".py",
   "mimetype": "text/x-python",
   "name": "python",
   "nbconvert_exporter": "python",
   "pygments_lexer": "ipython3",
   "version": "3.7.9"
  }
 },
 "nbformat": 4,
 "nbformat_minor": 4
}
